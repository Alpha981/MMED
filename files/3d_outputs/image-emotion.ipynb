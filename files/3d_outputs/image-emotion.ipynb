{
 "cells": [
  {
   "cell_type": "markdown",
   "id": "07c3cdb7",
   "metadata": {
    "_cell_guid": "b1076dfc-b9ad-4769-8c92-a6c4dae69d19",
    "_uuid": "8f2839f25d086af736a60e9eeb907d3b93b6e0e5",
    "execution": {
     "iopub.execute_input": "2022-11-10T16:31:46.918768Z",
     "iopub.status.busy": "2022-11-10T16:31:46.9182Z",
     "iopub.status.idle": "2022-11-10T16:32:21.785655Z",
     "shell.execute_reply": "2022-11-10T16:32:21.784595Z",
     "shell.execute_reply.started": "2022-11-10T16:31:46.918665Z"
    },
    "papermill": {
     "duration": 0.005666,
     "end_time": "2023-05-07T02:35:21.690031",
     "exception": false,
     "start_time": "2023-05-07T02:35:21.684365",
     "status": "completed"
    },
    "tags": []
   },
   "source": [
    "# This Python 3 environment comes with many helpful analytics libraries installed\n",
    "# It is defined by the kaggle/python Docker image: https://github.com/kaggle/docker-python\n",
    "# For example, here's several helpful packages to load\n",
    "\n",
    "import numpy as np # linear algebra\n",
    "import pandas as pd # data processing, CSV file I/O (e.g. pd.read_csv)\n",
    "\n",
    "# Input data files are available in the read-only \"../input/\" directory\n",
    "# For example, running this (by clicking run or pressing Shift+Enter) will list all files under the input directory\n",
    "\n",
    "import os\n",
    "for dirname, _, filenames in os.walk('/kaggle/input'):\n",
    "    for filename in filenames:\n",
    "        print(os.path.join(dirname, filename))\n",
    "\n",
    "# You can write up to 20GB to the current directory (/kaggle/working/) that gets preserved as output when you create a version using \"Save & Run All\" \n",
    "# You can also write temporary files to /kaggle/temp/, but they won't be saved outside of the current session"
   ]
  },
  {
   "cell_type": "code",
   "execution_count": 1,
   "id": "5ac1a9d9",
   "metadata": {
    "execution": {
     "iopub.execute_input": "2023-05-07T02:35:21.699189Z",
     "iopub.status.busy": "2023-05-07T02:35:21.697992Z",
     "iopub.status.idle": "2023-05-07T02:35:27.814929Z",
     "shell.execute_reply": "2023-05-07T02:35:27.813965Z"
    },
    "papermill": {
     "duration": 6.124039,
     "end_time": "2023-05-07T02:35:27.817497",
     "exception": false,
     "start_time": "2023-05-07T02:35:21.693458",
     "status": "completed"
    },
    "tags": []
   },
   "outputs": [],
   "source": [
    "import matplotlib.pyplot as plt\n",
    "import seaborn as sns\n",
    "import tensorflow as tf\n",
    "import numpy as np\n",
    "import pandas as pd\n",
    "import keras\n",
    "from keras.preprocessing import image\n",
    "from keras.models import Sequential\n",
    "from keras.layers import Conv2D, MaxPool2D, Flatten,Dense,Dropout,BatchNormalization,ZeroPadding2D\n",
    "from tensorflow.keras.preprocessing.image import ImageDataGenerator\n",
    "import cv2\n",
    "from tensorflow.keras.applications import VGG16, InceptionResNetV2\n",
    "from keras import regularizers\n",
    "from tensorflow.keras.optimizers import Adam,RMSprop,SGD,Adamax"
   ]
  },
  {
   "cell_type": "code",
   "execution_count": 2,
   "id": "21d7e3ba",
   "metadata": {
    "execution": {
     "iopub.execute_input": "2023-05-07T02:35:27.826722Z",
     "iopub.status.busy": "2023-05-07T02:35:27.825732Z",
     "iopub.status.idle": "2023-05-07T02:35:27.831565Z",
     "shell.execute_reply": "2023-05-07T02:35:27.830704Z"
    },
    "papermill": {
     "duration": 0.012466,
     "end_time": "2023-05-07T02:35:27.833554",
     "exception": false,
     "start_time": "2023-05-07T02:35:27.821088",
     "status": "completed"
    },
    "tags": []
   },
   "outputs": [],
   "source": [
    "train_dir = \"../input/fer2013/train\" \n",
    "test_dir = \"../input/fer2013/test\"   "
   ]
  },
  {
   "cell_type": "code",
   "execution_count": 3,
   "id": "e94e7143",
   "metadata": {
    "execution": {
     "iopub.execute_input": "2023-05-07T02:35:27.841179Z",
     "iopub.status.busy": "2023-05-07T02:35:27.840906Z",
     "iopub.status.idle": "2023-05-07T02:35:27.845930Z",
     "shell.execute_reply": "2023-05-07T02:35:27.844962Z"
    },
    "papermill": {
     "duration": 0.011173,
     "end_time": "2023-05-07T02:35:27.847930",
     "exception": false,
     "start_time": "2023-05-07T02:35:27.836757",
     "status": "completed"
    },
    "tags": []
   },
   "outputs": [],
   "source": [
    "img_size = 48\n",
    "train_datagen = ImageDataGenerator(#rotation_range = 180,\n",
    "                                         width_shift_range = 0.1,\n",
    "                                         height_shift_range = 0.1,\n",
    "                                         horizontal_flip = True,\n",
    "                                         rescale = 1./255,\n",
    "                                         #zoom_range = 0.2,\n",
    "                                         validation_split = 0.2\n",
    "                                        )\n",
    "validation_datagen = ImageDataGenerator(rescale = 1./255,\n",
    "                                         validation_split = 0.2)"
   ]
  },
  {
   "cell_type": "code",
   "execution_count": 4,
   "id": "5a3365c9",
   "metadata": {
    "execution": {
     "iopub.execute_input": "2023-05-07T02:35:27.855659Z",
     "iopub.status.busy": "2023-05-07T02:35:27.854879Z",
     "iopub.status.idle": "2023-05-07T02:35:53.486509Z",
     "shell.execute_reply": "2023-05-07T02:35:53.485032Z"
    },
    "papermill": {
     "duration": 25.637795,
     "end_time": "2023-05-07T02:35:53.488757",
     "exception": false,
     "start_time": "2023-05-07T02:35:27.850962",
     "status": "completed"
    },
    "tags": []
   },
   "outputs": [
    {
     "name": "stdout",
     "output_type": "stream",
     "text": [
      "Found 22968 images belonging to 7 classes.\n",
      "Found 1432 images belonging to 7 classes.\n"
     ]
    }
   ],
   "source": [
    "train_generator = train_datagen.flow_from_directory(directory = train_dir,\n",
    "                                                    target_size = (img_size,img_size),\n",
    "                                                    batch_size = 64,\n",
    "                                                    color_mode = \"grayscale\",\n",
    "                                                    class_mode = \"categorical\",\n",
    "                                                    subset = \"training\"\n",
    "                                                   )\n",
    "validation_generator = validation_datagen.flow_from_directory( directory = test_dir,\n",
    "                                                              target_size = (img_size,img_size),\n",
    "                                                              batch_size = 64,\n",
    "                                                              color_mode = \"grayscale\",\n",
    "                                                              class_mode = \"categorical\",\n",
    "                                                              subset = \"validation\"\n",
    "                                                             )"
   ]
  },
  {
   "cell_type": "code",
   "execution_count": 5,
   "id": "35febd16",
   "metadata": {
    "execution": {
     "iopub.execute_input": "2023-05-07T02:35:53.497433Z",
     "iopub.status.busy": "2023-05-07T02:35:53.496547Z",
     "iopub.status.idle": "2023-05-07T02:35:56.527917Z",
     "shell.execute_reply": "2023-05-07T02:35:56.526890Z"
    },
    "papermill": {
     "duration": 3.038029,
     "end_time": "2023-05-07T02:35:56.530349",
     "exception": false,
     "start_time": "2023-05-07T02:35:53.492320",
     "status": "completed"
    },
    "tags": []
   },
   "outputs": [],
   "source": [
    "model= tf.keras.models.Sequential()\n",
    "model.add(Conv2D(32, kernel_size=(3, 3), padding='same', activation='relu', input_shape=(48, 48,1)))\n",
    "model.add(Conv2D(64,(3,3), padding='same', activation='relu' ))\n",
    "model.add(BatchNormalization())\n",
    "model.add(MaxPool2D(pool_size=(2, 2)))\n",
    "model.add(Dropout(0.25))\n",
    "\n",
    "model.add(Conv2D(128,(5,5), padding='same', activation='relu'))\n",
    "model.add(BatchNormalization())\n",
    "model.add(MaxPool2D(pool_size=(2, 2)))\n",
    "model.add(Dropout(0.25))\n",
    "    \n",
    "model.add(Conv2D(512,(3,3), padding='same', activation='relu', kernel_regularizer=regularizers.l2(0.01)))\n",
    "model.add(BatchNormalization())\n",
    "model.add(MaxPool2D(pool_size=(2, 2)))\n",
    "model.add(Dropout(0.25))\n",
    "\n",
    "model.add(Conv2D(512,(3,3), padding='same', activation='relu', kernel_regularizer=regularizers.l2(0.01)))\n",
    "model.add(BatchNormalization())\n",
    "model.add(MaxPool2D(pool_size=(2, 2)))\n",
    "model.add(Dropout(0.25))\n",
    "\n",
    "model.add(Flatten()) \n",
    "model.add(Dense(256,activation = 'relu'))\n",
    "model.add(BatchNormalization())\n",
    "model.add(Dropout(0.25))\n",
    "    \n",
    "model.add(Dense(512,activation = 'relu'))\n",
    "model.add(BatchNormalization())\n",
    "model.add(Dropout(0.25))\n",
    "\n",
    "model.add(Dense(7, activation='softmax'))\n",
    "\n",
    "model.compile(\n",
    "    optimizer = Adam(learning_rate=0.0001), \n",
    "    loss='categorical_crossentropy', \n",
    "    metrics=['accuracy']\n",
    "  )"
   ]
  },
  {
   "cell_type": "code",
   "execution_count": 6,
   "id": "1746d2e7",
   "metadata": {
    "execution": {
     "iopub.execute_input": "2023-05-07T02:35:56.539089Z",
     "iopub.status.busy": "2023-05-07T02:35:56.538799Z",
     "iopub.status.idle": "2023-05-07T02:38:10.975920Z",
     "shell.execute_reply": "2023-05-07T02:38:10.974893Z"
    },
    "papermill": {
     "duration": 134.444088,
     "end_time": "2023-05-07T02:38:10.978149",
     "exception": false,
     "start_time": "2023-05-07T02:35:56.534061",
     "status": "completed"
    },
    "tags": []
   },
   "outputs": [
    {
     "name": "stderr",
     "output_type": "stream",
     "text": [
      "/opt/conda/lib/python3.7/site-packages/keras/engine/training.py:1972: UserWarning: `Model.fit_generator` is deprecated and will be removed in a future version. Please use `Model.fit`, which supports generators.\n",
      "  warnings.warn('`Model.fit_generator` is deprecated and '\n"
     ]
    },
    {
     "name": "stdout",
     "output_type": "stream",
     "text": [
      "Epoch 1/50\n",
      "448/448 [==============================] - 134s 281ms/step - loss: 9.2822 - accuracy: 0.1905 - val_loss: 8.6693 - val_accuracy: 0.1865\n"
     ]
    }
   ],
   "source": [
    "emotion_model_info = model.fit_generator(\n",
    "        train_generator,\n",
    "        steps_per_epoch=28709 // 64,\n",
    "        epochs=50,\n",
    "        validation_data=validation_generator,\n",
    "        validation_steps=7178 // 64)"
   ]
  },
  {
   "cell_type": "code",
   "execution_count": 7,
   "id": "294a2332",
   "metadata": {
    "execution": {
     "iopub.execute_input": "2023-05-07T02:38:11.024493Z",
     "iopub.status.busy": "2023-05-07T02:38:11.023549Z",
     "iopub.status.idle": "2023-05-07T02:38:11.034130Z",
     "shell.execute_reply": "2023-05-07T02:38:11.033173Z"
    },
    "papermill": {
     "duration": 0.035796,
     "end_time": "2023-05-07T02:38:11.036559",
     "exception": false,
     "start_time": "2023-05-07T02:38:11.000763",
     "status": "completed"
    },
    "tags": []
   },
   "outputs": [],
   "source": [
    "model_json =model.to_json()\n",
    "with open(\"emotion_model.json\", \"w\") as json_file:\n",
    "    json_file.write(model_json)"
   ]
  },
  {
   "cell_type": "code",
   "execution_count": 8,
   "id": "23a5de18",
   "metadata": {
    "execution": {
     "iopub.execute_input": "2023-05-07T02:38:11.082103Z",
     "iopub.status.busy": "2023-05-07T02:38:11.081799Z",
     "iopub.status.idle": "2023-05-07T02:38:11.141328Z",
     "shell.execute_reply": "2023-05-07T02:38:11.140347Z"
    },
    "papermill": {
     "duration": 0.084633,
     "end_time": "2023-05-07T02:38:11.143982",
     "exception": false,
     "start_time": "2023-05-07T02:38:11.059349",
     "status": "completed"
    },
    "tags": []
   },
   "outputs": [],
   "source": [
    "model.save_weights('emotion_model.h5')"
   ]
  },
  {
   "cell_type": "code",
   "execution_count": 9,
   "id": "d88b22a2",
   "metadata": {
    "execution": {
     "iopub.execute_input": "2023-05-07T02:38:11.190261Z",
     "iopub.status.busy": "2023-05-07T02:38:11.189291Z",
     "iopub.status.idle": "2023-05-07T02:38:11.411857Z",
     "shell.execute_reply": "2023-05-07T02:38:11.410889Z"
    },
    "papermill": {
     "duration": 0.248066,
     "end_time": "2023-05-07T02:38:11.414110",
     "exception": false,
     "start_time": "2023-05-07T02:38:11.166044",
     "status": "completed"
    },
    "tags": []
   },
   "outputs": [
    {
     "name": "stdout",
     "output_type": "stream",
     "text": [
      "(48, 48)\n"
     ]
    },
    {
     "data": {
      "image/png": "[encoded data removed]",
      "text/plain": [
       "<Figure size 432x288 with 1 Axes>"
      ]
     },
     "metadata": {
      "needs_background": "light"
     },
     "output_type": "display_data"
    }
   ],
   "source": [
    "img = image.load_img(\"../input/fer2013/test/neutral/PrivateTest_10767287.jpg\",target_size = (48,48),color_mode = \"grayscale\")\n",
    "img = np.array(img)\n",
    "plt.imshow(img)\n",
    "print(img.shape)\n"
   ]
  },
  {
   "cell_type": "code",
   "execution_count": 10,
   "id": "8f991098",
   "metadata": {
    "execution": {
     "iopub.execute_input": "2023-05-07T02:38:11.463004Z",
     "iopub.status.busy": "2023-05-07T02:38:11.462698Z",
     "iopub.status.idle": "2023-05-07T02:38:11.708044Z",
     "shell.execute_reply": "2023-05-07T02:38:11.706956Z"
    },
    "papermill": {
     "duration": 0.271456,
     "end_time": "2023-05-07T02:38:11.710725",
     "exception": false,
     "start_time": "2023-05-07T02:38:11.439269",
     "status": "completed"
    },
    "tags": []
   },
   "outputs": [],
   "source": [
    "label_dict = {0:'Angry',1:'Disgust',2:'Fear',3:'Happy',4:'Neutral',5:'Sad',6:'Surprise'}\n",
    "img = np.expand_dims(img,axis = 0) #makes image shape (1,48,48)\n",
    "img = img.reshape(1,48,48,1)\n",
    "result = model.predict(img)\n",
    "result = list(result[0])"
   ]
  },
  {
   "cell_type": "code",
   "execution_count": 11,
   "id": "d516d498",
   "metadata": {
    "execution": {
     "iopub.execute_input": "2023-05-07T02:38:11.758355Z",
     "iopub.status.busy": "2023-05-07T02:38:11.757474Z",
     "iopub.status.idle": "2023-05-07T02:38:11.763279Z",
     "shell.execute_reply": "2023-05-07T02:38:11.762245Z"
    },
    "papermill": {
     "duration": 0.031221,
     "end_time": "2023-05-07T02:38:11.765709",
     "exception": false,
     "start_time": "2023-05-07T02:38:11.734488",
     "status": "completed"
    },
    "tags": []
   },
   "outputs": [
    {
     "name": "stdout",
     "output_type": "stream",
     "text": [
      "Neutral\n"
     ]
    }
   ],
   "source": [
    "img_index = result.index(max(result))\n",
    "print(label_dict[img_index])\n",
    "plt.show()"
   ]
  },
  {
   "cell_type": "code",
   "execution_count": null,
   "id": "56ce4bfc",
   "metadata": {
    "papermill": {
     "duration": 0.021337,
     "end_time": "2023-05-07T02:38:11.808133",
     "exception": false,
     "start_time": "2023-05-07T02:38:11.786796",
     "status": "completed"
    },
    "tags": []
   },
   "outputs": [],
   "source": []
  }
 ],
 "metadata": {
  "kernelspec": {
   "display_name": "Python 3",
   "language": "python",
   "name": "python3"
  },
  "language_info": {
   "codemirror_mode": {
    "name": "ipython",
    "version": 3
   },
   "file_extension": ".py",
   "mimetype": "text/x-python",
   "name": "python",
   "nbconvert_exporter": "python",
   "pygments_lexer": "ipython3",
   "version": "3.7.12"
  },
  "papermill": {
   "default_parameters": {},
   "duration": 181.348709,
   "end_time": "2023-05-07T02:38:15.146008",
   "environment_variables": {},
   "exception": null,
   "input_path": "__notebook__.ipynb",
   "output_path": "__notebook__.ipynb",
   "parameters": {},
   "start_time": "2023-05-07T02:35:13.797299",
   "version": "2.3.4"
  }
 },
 "nbformat": 4,
 "nbformat_minor": 5
}
