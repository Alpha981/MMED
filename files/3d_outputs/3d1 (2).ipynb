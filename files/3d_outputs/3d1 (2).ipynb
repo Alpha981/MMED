{
 "cells": [
  {
   "cell_type": "code",
   "execution_count": 2,
   "metadata": {
    "colab": {
     "base_uri": "https://localhost:8080/"
    },
    "executionInfo": {
     "elapsed": 36306,
     "status": "ok",
     "timestamp": 1670765730231,
     "user": {
      "displayName": "Shaik mohammed Sameer",
      "userId": "14426781237327521244"
     },
     "user_tz": -330
    },
    "id": "Ne-px0WgFpbE",
    "outputId": "6db4103b-32e2-4132-b7e4-69922c52e028"
   },
   "outputs": [
    {
     "name": "stdout",
     "output_type": "stream",
     "text": [
      "Requirement already satisfied: flask-ngrok in c:\\users\\hp\\anaconda3\\lib\\site-packages (0.0.25)\n",
      "Requirement already satisfied: requests in c:\\users\\hp\\anaconda3\\lib\\site-packages (from flask-ngrok) (2.25.1)\n",
      "Requirement already satisfied: Flask>=0.8 in c:\\users\\hp\\anaconda3\\lib\\site-packages (from flask-ngrok) (1.1.2)\n",
      "Requirement already satisfied: itsdangerous>=0.24 in c:\\users\\hp\\anaconda3\\lib\\site-packages (from Flask>=0.8->flask-ngrok) (1.1.0)\n",
      "Requirement already satisfied: Jinja2>=2.10.1 in c:\\users\\hp\\anaconda3\\lib\\site-packages (from Flask>=0.8->flask-ngrok) (2.11.3)\n",
      "Requirement already satisfied: click>=5.1 in c:\\users\\hp\\anaconda3\\lib\\site-packages (from Flask>=0.8->flask-ngrok) (7.1.2)\n",
      "Requirement already satisfied: Werkzeug>=0.15 in c:\\users\\hp\\anaconda3\\lib\\site-packages (from Flask>=0.8->flask-ngrok) (1.0.1)\n",
      "Requirement already satisfied: MarkupSafe>=0.23 in c:\\users\\hp\\anaconda3\\lib\\site-packages (from Jinja2>=2.10.1->Flask>=0.8->flask-ngrok) (1.1.1)\n",
      "Requirement already satisfied: idna<3,>=2.5 in c:\\users\\hp\\anaconda3\\lib\\site-packages (from requests->flask-ngrok) (2.10)\n",
      "Requirement already satisfied: urllib3<1.27,>=1.21.1 in c:\\users\\hp\\anaconda3\\lib\\site-packages (from requests->flask-ngrok) (1.26.4)\n",
      "Requirement already satisfied: chardet<5,>=3.0.2 in c:\\users\\hp\\anaconda3\\lib\\site-packages (from requests->flask-ngrok) (4.0.0)\n",
      "Requirement already satisfied: certifi>=2017.4.17 in c:\\users\\hp\\anaconda3\\lib\\site-packages (from requests->flask-ngrok) (2020.12.5)\n",
      "Requirement already satisfied: flask in c:\\users\\hp\\anaconda3\\lib\\site-packages (1.1.2)\n",
      "Requirement already satisfied: Werkzeug>=0.15 in c:\\users\\hp\\anaconda3\\lib\\site-packages (from flask) (1.0.1)\n",
      "Requirement already satisfied: Jinja2>=2.10.1 in c:\\users\\hp\\anaconda3\\lib\\site-packages (from flask) (2.11.3)\n",
      "Requirement already satisfied: click>=5.1 in c:\\users\\hp\\anaconda3\\lib\\site-packages (from flask) (7.1.2)\n",
      "Requirement already satisfied: itsdangerous>=0.24 in c:\\users\\hp\\anaconda3\\lib\\site-packages (from flask) (1.1.0)\n",
      "Requirement already satisfied: MarkupSafe>=0.23 in c:\\users\\hp\\anaconda3\\lib\\site-packages (from Jinja2>=2.10.1->flask) (1.1.1)\n",
      "Requirement already satisfied: pyngrok in c:\\users\\hp\\anaconda3\\lib\\site-packages (5.2.1)\n",
      "Requirement already satisfied: PyYAML in c:\\users\\hp\\anaconda3\\lib\\site-packages (from pyngrok) (5.4.1)\n",
      "Requirement already satisfied: face_alignment==1.2.0 in c:\\users\\hp\\anaconda3\\lib\\site-packages (1.2.0)\n",
      "Requirement already satisfied: redner-gpu in c:\\users\\hp\\anaconda3\\lib\\site-packages (0.4.25)\n",
      "Requirement already satisfied: numpy in c:\\users\\hp\\anaconda3\\lib\\site-packages (from face_alignment==1.2.0) (1.22.4)\n",
      "Requirement already satisfied: opencv-python in c:\\users\\hp\\anaconda3\\lib\\site-packages (from face_alignment==1.2.0) (4.7.0.72)\n",
      "Requirement already satisfied: tqdm in c:\\users\\hp\\anaconda3\\lib\\site-packages (from face_alignment==1.2.0) (4.59.0)\n",
      "Requirement already satisfied: scipy>=0.17 in c:\\users\\hp\\anaconda3\\lib\\site-packages (from face_alignment==1.2.0) (1.6.2)\n",
      "Requirement already satisfied: scikit-image in c:\\users\\hp\\anaconda3\\lib\\site-packages (from face_alignment==1.2.0) (0.18.1)\n",
      "Requirement already satisfied: torch in c:\\users\\hp\\anaconda3\\lib\\site-packages (from face_alignment==1.2.0) (2.0.0)\n",
      "Requirement already satisfied: imageio in c:\\users\\hp\\anaconda3\\lib\\site-packages (from redner-gpu) (2.9.0)\n",
      "Requirement already satisfied: pillow in c:\\users\\hp\\anaconda3\\lib\\site-packages (from imageio->redner-gpu) (8.2.0)\n",
      "Requirement already satisfied: matplotlib!=3.0.0,>=2.0.0 in c:\\users\\hp\\anaconda3\\lib\\site-packages (from scikit-image->face_alignment==1.2.0) (3.3.4)\n",
      "Requirement already satisfied: networkx>=2.0 in c:\\users\\hp\\anaconda3\\lib\\site-packages (from scikit-image->face_alignment==1.2.0) (2.5)\n",
      "Requirement already satisfied: tifffile>=2019.7.26 in c:\\users\\hp\\anaconda3\\lib\\site-packages (from scikit-image->face_alignment==1.2.0) (2021.4.8)\n",
      "Requirement already satisfied: PyWavelets>=1.1.1 in c:\\users\\hp\\anaconda3\\lib\\site-packages (from scikit-image->face_alignment==1.2.0) (1.1.1)\n",
      "Requirement already satisfied: pyparsing!=2.0.4,!=2.1.2,!=2.1.6,>=2.0.3 in c:\\users\\hp\\anaconda3\\lib\\site-packages (from matplotlib!=3.0.0,>=2.0.0->scikit-image->face_alignment==1.2.0) (2.4.7)\n",
      "Requirement already satisfied: cycler>=0.10 in c:\\users\\hp\\anaconda3\\lib\\site-packages (from matplotlib!=3.0.0,>=2.0.0->scikit-image->face_alignment==1.2.0) (0.10.0)\n",
      "Requirement already satisfied: kiwisolver>=1.0.1 in c:\\users\\hp\\anaconda3\\lib\\site-packages (from matplotlib!=3.0.0,>=2.0.0->scikit-image->face_alignment==1.2.0) (1.3.1)\n",
      "Requirement already satisfied: python-dateutil>=2.1 in c:\\users\\hp\\anaconda3\\lib\\site-packages (from matplotlib!=3.0.0,>=2.0.0->scikit-image->face_alignment==1.2.0) (2.8.1)\n",
      "Requirement already satisfied: six in c:\\users\\hp\\anaconda3\\lib\\site-packages (from cycler>=0.10->matplotlib!=3.0.0,>=2.0.0->scikit-image->face_alignment==1.2.0) (1.15.0)\n",
      "Requirement already satisfied: decorator>=4.3.0 in c:\\users\\hp\\anaconda3\\lib\\site-packages (from networkx>=2.0->scikit-image->face_alignment==1.2.0) (5.0.6)\n",
      "Requirement already satisfied: jinja2 in c:\\users\\hp\\anaconda3\\lib\\site-packages (from torch->face_alignment==1.2.0) (2.11.3)\n",
      "Requirement already satisfied: filelock in c:\\users\\hp\\anaconda3\\lib\\site-packages (from torch->face_alignment==1.2.0) (3.0.12)\n",
      "Requirement already satisfied: sympy in c:\\users\\hp\\anaconda3\\lib\\site-packages (from torch->face_alignment==1.2.0) (1.8)\n",
      "Requirement already satisfied: typing-extensions in c:\\users\\hp\\anaconda3\\lib\\site-packages (from torch->face_alignment==1.2.0) (3.7.4.3)\n",
      "Requirement already satisfied: MarkupSafe>=0.23 in c:\\users\\hp\\anaconda3\\lib\\site-packages (from jinja2->torch->face_alignment==1.2.0) (1.1.1)\n",
      "Requirement already satisfied: mpmath>=0.19 in c:\\users\\hp\\anaconda3\\lib\\site-packages (from sympy->torch->face_alignment==1.2.0) (1.2.1)\n",
      "Requirement already satisfied: mediapipe in c:\\users\\hp\\anaconda3\\lib\\site-packages (0.9.2.1)\n",
      "Requirement already satisfied: flatbuffers>=2.0 in c:\\users\\hp\\anaconda3\\lib\\site-packages (from mediapipe) (22.11.23)\n",
      "Requirement already satisfied: matplotlib in c:\\users\\hp\\anaconda3\\lib\\site-packages (from mediapipe) (3.3.4)\n",
      "Requirement already satisfied: opencv-contrib-python in c:\\users\\hp\\anaconda3\\lib\\site-packages (from mediapipe) (4.7.0.72)\n",
      "Requirement already satisfied: protobuf<4,>=3.11 in c:\\users\\hp\\anaconda3\\lib\\site-packages (from mediapipe) (3.18.0)\n",
      "Requirement already satisfied: numpy in c:\\users\\hp\\anaconda3\\lib\\site-packages (from mediapipe) (1.22.4)\n",
      "Requirement already satisfied: attrs>=19.1.0 in c:\\users\\hp\\anaconda3\\lib\\site-packages (from mediapipe) (20.3.0)\n",
      "Requirement already satisfied: absl-py in c:\\users\\hp\\anaconda3\\lib\\site-packages (from mediapipe) (1.3.0)\n",
      "Requirement already satisfied: pyparsing!=2.0.4,!=2.1.2,!=2.1.6,>=2.0.3 in c:\\users\\hp\\anaconda3\\lib\\site-packages (from matplotlib->mediapipe) (2.4.7)\n",
      "Requirement already satisfied: kiwisolver>=1.0.1 in c:\\users\\hp\\anaconda3\\lib\\site-packages (from matplotlib->mediapipe) (1.3.1)\n",
      "Requirement already satisfied: python-dateutil>=2.1 in c:\\users\\hp\\anaconda3\\lib\\site-packages (from matplotlib->mediapipe) (2.8.1)\n",
      "Requirement already satisfied: cycler>=0.10 in c:\\users\\hp\\anaconda3\\lib\\site-packages (from matplotlib->mediapipe) (0.10.0)\n",
      "Requirement already satisfied: pillow>=6.2.0 in c:\\users\\hp\\anaconda3\\lib\\site-packages (from matplotlib->mediapipe) (8.2.0)\n",
      "Requirement already satisfied: six in c:\\users\\hp\\anaconda3\\lib\\site-packages (from cycler>=0.10->matplotlib->mediapipe) (1.15.0)\n",
      "Requirement already satisfied: aspose-3d in c:\\users\\hp\\anaconda3\\lib\\site-packages (23.3)\n"
     ]
    }
   ],
   "source": [
    "!pip install flask-ngrok\n",
    "!pip install flask\n",
    "!pip install pyngrok\n",
    "!pip install face_alignment==1.2.0 redner-gpu\n",
    "!pip install mediapipe\n",
    "!pip install aspose-3d"
   ]
  },
  {
   "cell_type": "code",
   "execution_count": 1,
   "metadata": {
    "colab": {
     "base_uri": "https://localhost:8080/"
    },
    "executionInfo": {
     "elapsed": 3013,
     "status": "ok",
     "timestamp": 1670765747232,
     "user": {
      "displayName": "Shaik mohammed Sameer",
      "userId": "14426781237327521244"
     },
     "user_tz": -330
    },
    "id": "D8KqouttR-5u",
    "outputId": "16705cc8-b281-4e3a-960f-00fb0c5f4708"
   },
   "outputs": [
    {
     "name": "stdout",
     "output_type": "stream",
     "text": [
      "Authtoken saved to configuration file: C:\\Users\\HP/.ngrok2/ngrok.yml\n"
     ]
    }
   ],
   "source": [
    "!ngrok authtoken 2NV2FysIjrbVA8zQsXS5D0ClOsY_26hW6MQwoCDVvPMS7Gohu"
   ]
  },
  {
   "cell_type": "code",
   "execution_count": 1,
   "metadata": {
    "colab": {
     "base_uri": "https://localhost:8080/"
    },
    "executionInfo": {
     "elapsed": 20536,
     "status": "ok",
     "timestamp": 1670765777429,
     "user": {
      "displayName": "Shaik mohammed Sameer",
      "userId": "14426781237327521244"
     },
     "user_tz": -330
    },
    "id": "vmRidOcXFfC5",
    "outputId": "44c2410c-b006-4bc3-9de7-b3067a213873"
   },
   "outputs": [
    {
     "name": "stdout",
     "output_type": "stream",
     "text": [
      "loading optim config from:  C:/Users/HP/NextFace/optimConfig.ini\n",
      "Loading Basel Face Model 2017 from C:/Users/HP/NextFace/baselMorphableModel//morphableModel-2017.pickle...\n",
      "loading mesh normals...\n",
      "loading uv parametrization...\n",
      "loading landmarks association file...\n",
      "creating sampler...\n"
     ]
    },
    {
     "name": "stderr",
     "output_type": "stream",
     "text": [
      "C:\\Users\\HP\\anaconda3\\lib\\site-packages\\torch\\functional.py:504: UserWarning: torch.meshgrid: in an upcoming release, it will be required to pass the indexing argument. (Triggered internally at C:\\actions-runner\\_work\\pytorch\\pytorch\\builder\\windows\\pytorch\\aten\\src\\ATen\\native\\TensorShape.cpp:3484.)\n",
      "  return _VF.meshgrid(tensors, **kwargs)  # type: ignore[attr-defined]\n"
     ]
    }
   ],
   "source": [
    "from flask import Flask,render_template,request,redirect\n",
    "from flask_ngrok import run_with_ngrok\n",
    "import sys\n",
    "import os\n",
    "from os.path import join, dirname, realpath\n",
    "from werkzeug.utils import secure_filename\n",
    "import cv2\n",
    "import tensorflow as tf\n",
    "from keras.preprocessing import image\n",
    "from keras.models import load_model,model_from_json\n",
    "import numpy as np\n",
    "import jinja2\n",
    "import aspose.threed as a3d\n",
    "from optimizer import Optimizer\n",
    "from config import Config\n",
    "config = Config()\n",
    "config.fillFromDicFile('C:/Users/HP/NextFace/optimConfig.ini')\n",
    "config.device = 'cpu'\n",
    "config.path = 'C:/Users/HP/NextFace/baselMorphableModel/'\n",
    "UPLOAD_FOLDER = 'C:/Users/HP/3DEmotion/static/'\n",
    "outputDir = 'C:/Users/HP/NextFace/static/output/' \n",
    "optimizer = Optimizer(outputDir ,config)"
   ]
  },
  {
   "cell_type": "code",
   "execution_count": null,
   "metadata": {
    "colab": {
     "base_uri": "https://localhost:8080/",
     "height": 1000
    },
    "executionInfo": {
     "elapsed": 579483,
     "status": "ok",
     "timestamp": 1670766361477,
     "user": {
      "displayName": "Shaik mohammed Sameer",
      "userId": "14426781237327521244"
     },
     "user_tz": -330
    },
    "id": "qwFTGZ4oJrSd",
    "outputId": "c4c367ac-2c2f-465d-ab18-c0c15fc2fb63"
   },
   "outputs": [
    {
     "name": "stdout",
     "output_type": "stream",
     "text": [
      " * Serving Flask app \"__main__\" (lazy loading)\n",
      " * Environment: production\n",
      "   WARNING: This is a development server. Do not use it in a production deployment.\n",
      "   Use a production WSGI server instead.\n",
      " * Debug mode: off\n"
     ]
    },
    {
     "name": "stderr",
     "output_type": "stream",
     "text": [
      " * Running on http://127.0.0.1:5000/ (Press CTRL+C to quit)\n"
     ]
    },
    {
     "name": "stdout",
     "output_type": "stream",
     "text": [
      " * Running on http://063d-202-65-154-98.ngrok.io\n",
      " * Traffic stats available on http://127.0.0.1:4040\n"
     ]
    },
    {
     "name": "stderr",
     "output_type": "stream",
     "text": [
      "127.0.0.1 - - [25/Mar/2023 17:33:46] \"\u001b[37mGET / HTTP/1.1\u001b[0m\" 200 -\n",
      "127.0.0.1 - - [25/Mar/2023 17:33:46] \"\u001b[33mGET /index1.css HTTP/1.1\u001b[0m\" 404 -\n",
      "127.0.0.1 - - [25/Mar/2023 17:33:46] \"\u001b[36mGET /static/index1.css HTTP/1.1\u001b[0m\" 304 -\n",
      "127.0.0.1 - - [25/Mar/2023 17:33:46] \"\u001b[33mGET /js/jquery.min.js HTTP/1.1\u001b[0m\" 404 -\n",
      "127.0.0.1 - - [25/Mar/2023 17:33:46] \"\u001b[33mGET /js/popper.js HTTP/1.1\u001b[0m\" 404 -\n",
      "127.0.0.1 - - [25/Mar/2023 17:33:46] \"\u001b[33mGET /js/bootstrap.min.js HTTP/1.1\u001b[0m\" 404 -\n",
      "127.0.0.1 - - [25/Mar/2023 17:33:46] \"\u001b[33mGET /js/jquery.validate.min.js HTTP/1.1\u001b[0m\" 404 -\n",
      "127.0.0.1 - - [25/Mar/2023 17:33:46] \"\u001b[33mGET /js/main.js HTTP/1.1\u001b[0m\" 404 -\n",
      "127.0.0.1 - - [25/Mar/2023 17:33:46] \"\u001b[33mGET /cdn-cgi/zaraz/s.js?z=JTdCJTIyZXhlY3V0ZWQlMjIlM0ElNUIlNUQlMkMlMjJ0JTIyJTNBJTIyQ29udGFjdCUyMEZvcm0lMjAwNCUyMiUyQyUyMnglMjIlM0EwLjg1MzI3NDQ3NjEwNzkzNjMlMkMlMjJ3JTIyJTNBMTI4MCUyQyUyMmglMjIlM0E3MjAlMkMlMjJqJTIyJTNBNjA5JTJDJTIyZSUyMiUzQTEyODAlMkMlMjJsJTIyJTNBJTIyaHR0cHMlM0ElMkYlMkZwcmV2aWV3LmNvbG9ybGliLmNvbSUyRnRoZW1lJTJGYm9vdHN0cmFwJTJGY29udGFjdC1mb3JtLTA0JTJGJTIyJTJDJTIyciUyMiUzQSUyMmh0dHBzJTNBJTJGJTJGY29sb3JsaWIuY29tJTJGJTIyJTJDJTIyayUyMiUzQTI0JTJDJTIybiUyMiUzQSUyMlVURi04JTIyJTJDJTIybyUyMiUzQS0zMzAlMkMlMjJxJTIyJTNBJTVCJTVEJTdE HTTP/1.1\u001b[0m\" 404 -\n",
      "127.0.0.1 - - [25/Mar/2023 17:33:46] \"\u001b[36mGET /static/home1.webp HTTP/1.1\u001b[0m\" 304 -\n",
      "127.0.0.1 - - [25/Mar/2023 17:33:46] \"\u001b[36mGET /static/home2.jpeg HTTP/1.1\u001b[0m\" 304 -\n",
      "127.0.0.1 - - [25/Mar/2023 17:33:46] \"\u001b[36mGET /static/11.jfif HTTP/1.1\u001b[0m\" 304 -\n",
      "127.0.0.1 - - [25/Mar/2023 17:33:46] \"\u001b[36mGET /static/start.jfif HTTP/1.1\u001b[0m\" 304 -\n",
      "127.0.0.1 - - [25/Mar/2023 17:33:46] \"\u001b[33mGET /cdn-cgi/zaraz/s.js?z=JTdCJTIyZXhlY3V0ZWQlMjIlM0ElNUIlNUQlMkMlMjJ0JTIyJTNBJTIySHVtYW5GYWNlJTIyJTJDJTIyeCUyMiUzQTAuODUzNjczODg5ODkwMzI0OSUyQyUyMnclMjIlM0ExMjgwJTJDJTIyaCUyMiUzQTcyMCUyQyUyMmolMjIlM0E2NTIlMkMlMjJlJTIyJTNBMTI4MCUyQyUyMmwlMjIlM0ElMjJodHRwJTNBJTJGJTJGMTI3LjAuMC4xJTNBNTAwMCUyRiUyMiUyQyUyMnIlMjIlM0ElMjJodHRwJTNBJTJGJTJGbG9jYWxob3N0JTNBODg4OCUyRiUyMiUyQyUyMmslMjIlM0EyNCUyQyUyMm4lMjIlM0ElMjJVVEYtOCUyMiUyQyUyMm8lMjIlM0EtMzMwJTJDJTIycSUyMiUzQSU1QiU1RCU3RA== HTTP/1.1\u001b[0m\" 404 -\n"
     ]
    },
    {
     "name": "stdout",
     "output_type": "stream",
     "text": [
      "1/1 [==============================] - 0s 106ms/step\n",
      "Loading Basel Face Model 2017 from C:/Users/HP/NextFace/baselMorphableModel//morphableModel-2017.pickle...\n",
      "loading mesh normals...\n",
      "loading uv parametrization...\n",
      "loading landmarks association file...\n",
      "creating sampler...\n",
      "loading image from path:  C:/Users/HP/3DEmotion/static/cropped.jpg\n",
      "detecting landmarks using: fan\n"
     ]
    },
    {
     "name": "stderr",
     "output_type": "stream",
     "text": [
      "init camera pose...\n",
      "1/3 => Optimizing head pose and expressions using landmarks...\n",
      "100%|██████████████████████████████████████████████████████████████████████████████| 2000/2000 [00:59<00:00, 33.73it/s]\n",
      "2/3 => Optimizing shape, statistical albedos, expression, head pose and scene light...\n",
      "100%|████████████████████████████████████████████████████████████████████████████████| 401/401 [05:13<00:00,  1.28it/s]\n",
      "3/3 => finetuning albedos, shape, expression, head pose and scene light...\n",
      "100%|████████████████████████████████████████████████████████████████████████████████| 101/101 [01:52<00:00,  1.11s/it]\n",
      "took 8.10 minutes to optimize\n",
      "saving to: ' C:/Users/HP/NextFace/static/output// '. hold on... \n",
      "127.0.0.1 - - [25/Mar/2023 17:44:06] \"\u001b[37mPOST /predict HTTP/1.1\u001b[0m\" 200 -\n",
      "127.0.0.1 - - [25/Mar/2023 17:44:06] \"\u001b[33mGET /index1.css HTTP/1.1\u001b[0m\" 404 -\n",
      "127.0.0.1 - - [25/Mar/2023 17:44:06] \"\u001b[36mGET /static/index1.css HTTP/1.1\u001b[0m\" 304 -\n",
      "127.0.0.1 - - [25/Mar/2023 17:44:06] \"\u001b[33mGET /static/js/aframe.min.js HTTP/1.1\u001b[0m\" 404 -\n",
      "127.0.0.1 - - [25/Mar/2023 17:44:06] \"\u001b[33mGET /static/js/aframe-ar.js HTTP/1.1\u001b[0m\" 404 -\n",
      "127.0.0.1 - - [25/Mar/2023 17:44:06] \"\u001b[33mGET /js/jquery.min.js HTTP/1.1\u001b[0m\" 404 -\n",
      "127.0.0.1 - - [25/Mar/2023 17:44:06] \"\u001b[33mGET /js/popper.js HTTP/1.1\u001b[0m\" 404 -\n",
      "127.0.0.1 - - [25/Mar/2023 17:44:06] \"\u001b[33mGET /js/bootstrap.min.js HTTP/1.1\u001b[0m\" 404 -\n",
      "127.0.0.1 - - [25/Mar/2023 17:44:06] \"\u001b[33mGET /js/jquery.validate.min.js HTTP/1.1\u001b[0m\" 404 -\n",
      "127.0.0.1 - - [25/Mar/2023 17:44:06] \"\u001b[33mGET /js/main.js HTTP/1.1\u001b[0m\" 404 -\n",
      "127.0.0.1 - - [25/Mar/2023 17:44:06] \"\u001b[33mGET /cdn-cgi/zaraz/s.js?z=JTdCJTIyZXhlY3V0ZWQlMjIlM0ElNUIlNUQlMkMlMjJ0JTIyJTNBJTIyQ29udGFjdCUyMEZvcm0lMjAwNCUyMiUyQyUyMnglMjIlM0EwLjg1MzI3NDQ3NjEwNzkzNjMlMkMlMjJ3JTIyJTNBMTI4MCUyQyUyMmglMjIlM0E3MjAlMkMlMjJqJTIyJTNBNjA5JTJDJTIyZSUyMiUzQTEyODAlMkMlMjJsJTIyJTNBJTIyaHR0cHMlM0ElMkYlMkZwcmV2aWV3LmNvbG9ybGliLmNvbSUyRnRoZW1lJTJGYm9vdHN0cmFwJTJGY29udGFjdC1mb3JtLTA0JTJGJTIyJTJDJTIyciUyMiUzQSUyMmh0dHBzJTNBJTJGJTJGY29sb3JsaWIuY29tJTJGJTIyJTJDJTIyayUyMiUzQTI0JTJDJTIybiUyMiUzQSUyMlVURi04JTIyJTJDJTIybyUyMiUzQS0zMzAlMkMlMjJxJTIyJTNBJTVCJTVEJTdE HTTP/1.1\u001b[0m\" 404 -\n",
      "127.0.0.1 - - [25/Mar/2023 17:44:06] \"\u001b[37mGET /static/after.jpg HTTP/1.1\u001b[0m\" 200 -\n",
      "127.0.0.1 - - [25/Mar/2023 17:44:06] \"\u001b[33mGET /static/output/render_0.png HTTP/1.1\u001b[0m\" 404 -\n",
      "127.0.0.1 - - [25/Mar/2023 17:44:06] \"\u001b[33mGET /cdn-cgi/zaraz/s.js?z=JTdCJTIyZXhlY3V0ZWQlMjIlM0ElNUIlNUQlMkMlMjJ0JTIyJTNBJTIySHVtYW5GYWNlJTIyJTJDJTIyeCUyMiUzQTAuNjI1Mjk2MTI2MjA2NTQzNSUyQyUyMnclMjIlM0ExMjgwJTJDJTIyaCUyMiUzQTcyMCUyQyUyMmolMjIlM0E2NTIlMkMlMjJlJTIyJTNBMTI4MCUyQyUyMmwlMjIlM0ElMjJodHRwJTNBJTJGJTJGMTI3LjAuMC4xJTNBNTAwMCUyRnByZWRpY3QlMjIlMkMlMjJyJTIyJTNBJTIyaHR0cCUzQSUyRiUyRjEyNy4wLjAuMSUzQTUwMDAlMkYlMjIlMkMlMjJrJTIyJTNBMjQlMkMlMjJuJTIyJTNBJTIyVVRGLTglMjIlMkMlMjJvJTIyJTNBLTMzMCUyQyUyMnElMjIlM0ElNUIlNUQlN0Q= HTTP/1.1\u001b[0m\" 404 -\n",
      "127.0.0.1 - - [25/Mar/2023 17:46:57] \"\u001b[33mGET /static/output/result.glTF HTTP/1.1\u001b[0m\" 404 -\n"
     ]
    }
   ],
   "source": [
    "app = Flask(__name__,template_folder='C:/Users/HP/3DEmotion/templates',static_folder='C:/Users/HP/3DEmotion/static/')\n",
    "run_with_ngrok(app)\n",
    "app.config['UPLOAD_FOLDER'] = UPLOAD_FOLDER\n",
    "app.config['SEND_FILE_MAX_AGE_DEFAULT'] = 1\n",
    "app.secret_key = 'sameer'\n",
    "#!rm -rf 'C:/Users/HP/3DEmotion/static/output/'\n",
    "@app.route('/')\n",
    "def main():\n",
    "    return render_template('index.html')\n",
    "\n",
    "@app.route('/predict',  methods=['POST', 'GET'])\n",
    "def uploadFile():\n",
    "    if request.method == 'POST':\n",
    "        if 'uploaded-file' not in request.files:\n",
    "            return render_template('index.html')\n",
    "        uploaded_img = request.files['uploaded-file']\n",
    "        if uploaded_img.filename == '':\n",
    "            return render_template('index.html')\n",
    "        uploaded_img.save('C:/Users/HP/3DEmotion/static/file.jpg')\n",
    "        img1 = cv2.imread('C:/Users/HP/3DEmotion/static/file.jpg')\n",
    "        gray = cv2.cvtColor(img1, cv2.COLOR_BGR2GRAY)\n",
    "        cascade = cv2.CascadeClassifier('C:/Users/HP/3DEmotion/haarcascade_frontalface_default.xml')\n",
    "        faces = cascade.detectMultiScale(gray, 1.1, 3)\n",
    "        for x,y,w,h in faces:\n",
    "            cv2.rectangle(img1, (x,y), (x+w, y+h), (0,255,0), 2)\n",
    "            cropped = img1[y:y+h, x:x+w]\n",
    "        cv2.imwrite('C:/Users/HP/3DEmotion/static/after.jpg', img1)\n",
    "        try:\n",
    "            cv2.imwrite('C:/Users/HP/3Demotion/static/cropped.jpg', cropped)\n",
    "        except:\n",
    "            pass\n",
    "        try:\n",
    "            image = cv2.imread('C:/Users/HP/3DEmotion/static/cropped.jpg', 0)\n",
    "        except:\n",
    "            image = cv2.imread('C:/Users/HP/3DEmotion/static/file.jpg', 0)\n",
    "        image = tf.keras.utils.load_img('C:/Users/HP/3DEmotion/static/cropped.jpg',target_size = (48,48),color_mode = \"grayscale\")\n",
    "        image = np.array(image)\n",
    "        image = image/255.0\n",
    "        image = np.reshape(image, (1,48,48,1))\n",
    "        model = model_from_json(open(\"C:/Users/HP/3DEmotion/emotion_model1.json\", \"r\").read())\n",
    "        model.load_weights('C:/Users/HP/3DEmotion/model.h5')\n",
    "        prediction = model.predict(image)\n",
    "        label_dict = {0:'Angry',1:'Disgust',2:'Fear',3:'Happy',4:'Neutral',5:'Sad',6:'Surprise'}\n",
    "        prediction = list(prediction[0])\n",
    "        img_index = prediction.index(max(prediction))\n",
    "        final_prediction=label_dict[img_index]\n",
    "        imagePath = 'C:/Users/HP/3DEmotion/static/cropped.jpg'\n",
    "        \n",
    "        \n",
    "        optimizer.run(imagePath)\n",
    "        scene=a3d.Scene.from_file(\"C:/Users/HP/NextFace/static/output/mesh0.obj\")\n",
    "        scene.save(\"C:/Users/HP/NextFace/static/output/result.glTF\")\n",
    "        return render_template('predict.html', data=final_prediction)\n",
    "\n",
    "\n",
    "@app.route('/contact')\n",
    "def main2():\n",
    "    return render_template('contact.html')\n",
    "\n",
    "@app.route('/about')\n",
    "def main3():\n",
    "    return render_template('about.html')\n",
    "\n",
    "if __name__ == \"__main__\":\n",
    "    app.run()"
   ]
  },
  {
   "cell_type": "code",
   "execution_count": 4,
   "metadata": {
    "id": "WCadnF-girbY"
   },
   "outputs": [
    {
     "name": "stdout",
     "output_type": "stream",
     "text": [
      "Collecting torchvision\n",
      "  Downloading torchvision-0.15.1-cp38-cp38-win_amd64.whl (1.2 MB)\n",
      "Requirement already satisfied: requests in c:\\users\\hp\\anaconda3\\lib\\site-packages (from torchvision) (2.25.1)\n",
      "Requirement already satisfied: numpy in c:\\users\\hp\\anaconda3\\lib\\site-packages (from torchvision) (1.22.4)\n",
      "Requirement already satisfied: torch==2.0.0 in c:\\users\\hp\\anaconda3\\lib\\site-packages (from torchvision) (2.0.0)\n",
      "Requirement already satisfied: pillow!=8.3.*,>=5.3.0 in c:\\users\\hp\\anaconda3\\lib\\site-packages (from torchvision) (8.2.0)\n",
      "Requirement already satisfied: networkx in c:\\users\\hp\\anaconda3\\lib\\site-packages (from torch==2.0.0->torchvision) (2.5)\n",
      "Requirement already satisfied: sympy in c:\\users\\hp\\anaconda3\\lib\\site-packages (from torch==2.0.0->torchvision) (1.8)\n",
      "Requirement already satisfied: jinja2 in c:\\users\\hp\\anaconda3\\lib\\site-packages (from torch==2.0.0->torchvision) (2.11.3)\n",
      "Requirement already satisfied: filelock in c:\\users\\hp\\anaconda3\\lib\\site-packages (from torch==2.0.0->torchvision) (3.0.12)\n",
      "Requirement already satisfied: typing-extensions in c:\\users\\hp\\anaconda3\\lib\\site-packages (from torch==2.0.0->torchvision) (3.7.4.3)\n",
      "Requirement already satisfied: MarkupSafe>=0.23 in c:\\users\\hp\\anaconda3\\lib\\site-packages (from jinja2->torch==2.0.0->torchvision) (1.1.1)\n",
      "Requirement already satisfied: decorator>=4.3.0 in c:\\users\\hp\\anaconda3\\lib\\site-packages (from networkx->torch==2.0.0->torchvision) (5.0.6)\n",
      "Requirement already satisfied: certifi>=2017.4.17 in c:\\users\\hp\\anaconda3\\lib\\site-packages (from requests->torchvision) (2020.12.5)\n",
      "Requirement already satisfied: urllib3<1.27,>=1.21.1 in c:\\users\\hp\\anaconda3\\lib\\site-packages (from requests->torchvision) (1.26.4)\n",
      "Requirement already satisfied: idna<3,>=2.5 in c:\\users\\hp\\anaconda3\\lib\\site-packages (from requests->torchvision) (2.10)\n",
      "Requirement already satisfied: chardet<5,>=3.0.2 in c:\\users\\hp\\anaconda3\\lib\\site-packages (from requests->torchvision) (4.0.0)\n",
      "Requirement already satisfied: mpmath>=0.19 in c:\\users\\hp\\anaconda3\\lib\\site-packages (from sympy->torch==2.0.0->torchvision) (1.2.1)\n",
      "Installing collected packages: torchvision\n",
      "Successfully installed torchvision-0.15.1\n"
     ]
    }
   ],
   "source": [
    "!pip install torchvision"
   ]
  },
  {
   "cell_type": "code",
   "execution_count": null,
   "metadata": {},
   "outputs": [],
   "source": []
  }
 ],
 "metadata": {
  "colab": {
   "authorship_tag": "ABX9TyPx6Zxaf0XfmfrD99bPTfTY",
   "provenance": []
  },
  "gpuClass": "standard",
  "kernelspec": {
   "display_name": "Python 3 (ipykernel)",
   "language": "python",
   "name": "python3"
  },
  "language_info": {
   "codemirror_mode": {
    "name": "ipython",
    "version": 3
   },
   "file_extension": ".py",
   "mimetype": "text/x-python",
   "name": "python",
   "nbconvert_exporter": "python",
   "pygments_lexer": "ipython3",
   "version": "3.11.2"
  }
 },
 "nbformat": 4,
 "nbformat_minor": 1
}
